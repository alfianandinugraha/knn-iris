{
 "cells": [
  {
   "cell_type": "code",
   "execution_count": 1,
   "metadata": {},
   "outputs": [
    {
     "name": "stdout",
     "output_type": "stream",
     "text": [
      "Feature names: ['sepal length (cm)', 'sepal width (cm)', 'petal length (cm)', 'petal width (cm)']\n",
      "Target names: ['setosa' 'versicolor' 'virginica']\n",
      "\n",
      "Type of X is: <class 'numpy.ndarray'>\n",
      "\n",
      "First 5 rows of X:\n",
      " [[5.1 3.5 1.4 0.2]\n",
      " [4.9 3.  1.4 0.2]\n",
      " [4.7 3.2 1.3 0.2]\n",
      " [4.6 3.1 1.5 0.2]\n",
      " [5.  3.6 1.4 0.2]]\n",
      "(90, 4)\n",
      "(60, 4)\n",
      "(90,)\n",
      "(60,)\n",
      "Akurasi model kNN : 0.9833333333333333\n",
      "Prediksi : ['versicolor', 'virginica']\n"
     ]
    },
    {
     "data": {
      "text/plain": [
       "['iris_knn.pkl']"
      ]
     },
     "execution_count": 1,
     "metadata": {},
     "output_type": "execute_result"
    }
   ],
   "source": [
    "# memanggil dataset iris \n",
    "from sklearn.datasets import load_iris \n",
    "iris_ku = load_iris() \n",
    "  \n",
    "# simpan data fitur/kolom (X) dan target (y) \n",
    "X = iris_ku.data \n",
    "y = iris_ku.target \n",
    "  \n",
    "# simpan nama fitur/kolom (X) dan target (y)\n",
    "feature_names = iris_ku.feature_names \n",
    "target_names = iris_ku.target_names \n",
    "  \n",
    "# tampil nama fitur dan target dataset \n",
    "print(\"Feature names:\", feature_names) \n",
    "print(\"Target names:\", target_names) \n",
    "  \n",
    "# X dan y adalah numpy arrays \n",
    "print(\"\\nType of X is:\", type(X)) \n",
    "  \n",
    "# tampilkan 5 baris pertama  \n",
    "print(\"\\nFirst 5 rows of X:\\n\", X[:5])\n",
    "\n",
    "\n",
    "# fitur(X) and target(y) \n",
    "X = iris_ku.data \n",
    "y = iris_ku.target \n",
    "\n",
    "# splitting X dan y untuk data latih  dan uji  \n",
    "from sklearn.model_selection import train_test_split \n",
    "X_latih, X_tes, y_latih, y_tes = train_test_split(X, y, test_size=0.4, random_state=1) \n",
    "  \n",
    "# tampilkan data fitur latih dan uji \n",
    "print(X_latih.shape)\n",
    "print(X_tes.shape) \n",
    "  \n",
    "# tampilkan data target latih dan uji \n",
    "print(y_latih.shape) \n",
    "print(y_tes.shape)\n",
    "\n",
    "# pelatihan pada data latih menggunakan KNN (k=3)\n",
    "from sklearn.neighbors import KNeighborsClassifier \n",
    "knn = KNeighborsClassifier(n_neighbors=3) \n",
    "knn.fit(X_latih, y_latih) \n",
    "  \n",
    "# melakukan prediksi pada data uji \n",
    "y_prediksi = knn.predict(X_tes) \n",
    "  \n",
    "# perbandingan nilai aktual (y_tes) dengan nilai prediksi (y_prediksi) \n",
    "from sklearn import metrics \n",
    "print(\"Akurasi model kNN :\", metrics.accuracy_score(y_tes, y_prediksi)) \n",
    "  \n",
    "# prediksi menggunakan data sampel dibuat sendiri \n",
    "contoh = [[3, 5, 4, 2], [2, 3, 5, 4]] \n",
    "preds = knn.predict(contoh) \n",
    "pred_species = [iris_ku.target_names[p] for p in preds] \n",
    "print(\"Prediksi :\", pred_species) \n",
    "  \n",
    "# saving the model \n",
    "#from sklearn.externals import joblib \n",
    "#joblib.dump(knn, 'iris_knn.pkl')\n",
    "\n",
    "#import sklearn.external.joblib as extjoblib\n",
    "import joblib\n",
    "joblib.dump(knn, 'iris_knn.pkl')"
   ]
  },
  {
   "cell_type": "code",
   "execution_count": null,
   "metadata": {},
   "outputs": [],
   "source": []
  }
 ],
 "metadata": {
  "kernelspec": {
   "display_name": "Python 3",
   "language": "python",
   "name": "python3"
  },
  "language_info": {
   "codemirror_mode": {
    "name": "ipython",
    "version": 3
   },
   "file_extension": ".py",
   "mimetype": "text/x-python",
   "name": "python",
   "nbconvert_exporter": "python",
   "pygments_lexer": "ipython3",
   "version": "3.8.3"
  }
 },
 "nbformat": 4,
 "nbformat_minor": 4
}
